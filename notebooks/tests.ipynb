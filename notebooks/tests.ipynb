{
 "cells": [
  {
   "cell_type": "code",
   "execution_count": 82,
   "id": "initial_id",
   "metadata": {
    "collapsed": true,
    "ExecuteTime": {
     "end_time": "2023-11-05T22:18:36.972874400Z",
     "start_time": "2023-11-05T22:18:36.935022200Z"
    }
   },
   "outputs": [],
   "source": [
    "import numpy as np\n",
    "from sklearn.model_selection import cross_val_score, cross_validate, GridSearchCV\n",
    "import pandas as pd\n",
    "from src.data.make_dataset import make_dataset\n",
    "from sklearn.ensemble import RandomForestClassifier, AdaBoostClassifier, GradientBoostingClassifier\n",
    "from sklearn.pipeline import Pipeline\n",
    "from sklearn.feature_extraction import DictVectorizer\n",
    "from flair.data import Sentence\n",
    "from flair.models import SequenceTagger"
   ]
  },
  {
   "cell_type": "code",
   "execution_count": 83,
   "outputs": [
    {
     "name": "stdout",
     "output_type": "stream",
     "text": [
      "2023-11-05 23:18:55,870 SequenceTagger predicts: Dictionary with 69 tags: <unk>, O, DET, NFP, ADJFP, AUX, VPPMS, ADV, PREP, PDEMMS, NMS, COSUB, PINDMS, PPOBJMS, VERB, DETFS, NFS, YPFOR, VPPFS, PUNCT, DETMS, PROPN, ADJMS, PPER3FS, ADJFS, COCO, NMP, PREL, PPER1S, ADJMP, VPPMP, DINTMS, PPER3MS, PPER3MP, PREF, ADJ, DINTFS, CHIF, XFAMIL, PRELFS, SYM, NOUN, MOTINC, PINDFS, PPOBJMP, NUM, PREFP, PDEMFS, VPPFP, PPER3FP\n"
     ]
    },
    {
     "data": {
      "text/plain": "     Unnamed: 0                                         video_name  \\\n0             0  Le Barbecue Disney - La chanson de Frédéric Fr...   \n1             1  Le Roi et l'Oiseau - La Chronique de Christine...   \n2             2  L'amour du lac - La chronique d'Hippolyte Gira...   \n3             3  La fille de la piscine de Léa Tourret - La chr...   \n4             4  \"Le soleil va moins faire son malin quand Jean...   \n..          ...                                                ...   \n994         994  Au Ces de Las Vegas des innovations à gogo et ...   \n995         995  Le questionnaire Jupiproust de Frédérique Matonti   \n996         996          Raphael - La Nuit N'en Finit Plus (cover)   \n997         997  Des sachets de drogue estampillés Haribeu sais...   \n998         998  \"1984\" par Xavier Coste : Prix Bd Fnac France ...   \n\n                                               is_name  is_comic  \\\n0                          [0, 0, 0, 0, 0, 0, 0, 1, 1]         1   \n1                    [0, 0, 0, 0, 0, 0, 0, 0, 0, 1, 1]         1   \n2                       [0, 0, 0, 0, 0, 0, 0, 0, 1, 1]         1   \n3           [0, 0, 0, 0, 0, 0, 0, 0, 0, 0, 0, 0, 1, 1]         0   \n4    [0, 0, 0, 0, 0, 0, 0, 0, 1, 0, 0, 0, 0, 0, 0, ...         0   \n..                                                 ...       ...   \n994   [0, 0, 0, 0, 0, 0, 0, 0, 0, 0, 0, 0, 0, 0, 0, 0]         0   \n995                                 [0, 0, 0, 0, 0, 0]         1   \n996                        [0, 0, 0, 0, 0, 0, 0, 0, 0]         0   \n997  [0, 0, 0, 0, 0, 0, 0, 0, 0, 0, 0, 0, 0, 0, 0, ...         1   \n998                  [0, 0, 0, 0, 0, 0, 0, 0, 0, 0, 0]         0   \n\n                 comic_name                                             tokens  \n0       [\"Frédéric Fromet\"]  [\"Le\", \"Barbecue\", \"Disney\", \"-\", \"La\", \"chans...  \n1    [\"Christine Gonzalez\"]  [\"Le\", \"Roi\", \"et\", \"l'\", \"Oiseau\", \"-\", \"La\",...  \n2    [\"Hippolyte Girardot\"]  [\"L'\", \"amour\", \"du\", \"lac\", \"-\", \"La\", \"chron...  \n3                        []  [\"La\", \"fille\", \"de\", \"la\", \"piscine\", \"de\", \"...  \n4                        []  [\"\\\"Le\", \"soleil\", \"va\", \"moins\", \"faire\", \"so...  \n..                      ...                                                ...  \n994                      []  [\"Au\", \"Ces\", \"de\", \"Las\", \"Vegas\", \"des\", \"in...  \n995                      []  [\"Le\", \"questionnaire\", \"Jupiproust\", \"de\", \"F...  \n996                      []  [\"Raphael\", \"-\", \"La\", \"Nuit\", \"N'\", \"en\", \"Fi...  \n997                      []  [\"Des\", \"sachets\", \"de\", \"drogue\", \"estampill\\...  \n998                      []  [\"\\\"1984\\\"\", \"par\", \"Xavier\", \"Coste\", \":\", \"P...  \n\n[999 rows x 6 columns]",
      "text/html": "<div>\n<style scoped>\n    .dataframe tbody tr th:only-of-type {\n        vertical-align: middle;\n    }\n\n    .dataframe tbody tr th {\n        vertical-align: top;\n    }\n\n    .dataframe thead th {\n        text-align: right;\n    }\n</style>\n<table border=\"1\" class=\"dataframe\">\n  <thead>\n    <tr style=\"text-align: right;\">\n      <th></th>\n      <th>Unnamed: 0</th>\n      <th>video_name</th>\n      <th>is_name</th>\n      <th>is_comic</th>\n      <th>comic_name</th>\n      <th>tokens</th>\n    </tr>\n  </thead>\n  <tbody>\n    <tr>\n      <th>0</th>\n      <td>0</td>\n      <td>Le Barbecue Disney - La chanson de Frédéric Fr...</td>\n      <td>[0, 0, 0, 0, 0, 0, 0, 1, 1]</td>\n      <td>1</td>\n      <td>[\"Frédéric Fromet\"]</td>\n      <td>[\"Le\", \"Barbecue\", \"Disney\", \"-\", \"La\", \"chans...</td>\n    </tr>\n    <tr>\n      <th>1</th>\n      <td>1</td>\n      <td>Le Roi et l'Oiseau - La Chronique de Christine...</td>\n      <td>[0, 0, 0, 0, 0, 0, 0, 0, 0, 1, 1]</td>\n      <td>1</td>\n      <td>[\"Christine Gonzalez\"]</td>\n      <td>[\"Le\", \"Roi\", \"et\", \"l'\", \"Oiseau\", \"-\", \"La\",...</td>\n    </tr>\n    <tr>\n      <th>2</th>\n      <td>2</td>\n      <td>L'amour du lac - La chronique d'Hippolyte Gira...</td>\n      <td>[0, 0, 0, 0, 0, 0, 0, 0, 1, 1]</td>\n      <td>1</td>\n      <td>[\"Hippolyte Girardot\"]</td>\n      <td>[\"L'\", \"amour\", \"du\", \"lac\", \"-\", \"La\", \"chron...</td>\n    </tr>\n    <tr>\n      <th>3</th>\n      <td>3</td>\n      <td>La fille de la piscine de Léa Tourret - La chr...</td>\n      <td>[0, 0, 0, 0, 0, 0, 0, 0, 0, 0, 0, 0, 1, 1]</td>\n      <td>0</td>\n      <td>[]</td>\n      <td>[\"La\", \"fille\", \"de\", \"la\", \"piscine\", \"de\", \"...</td>\n    </tr>\n    <tr>\n      <th>4</th>\n      <td>4</td>\n      <td>\"Le soleil va moins faire son malin quand Jean...</td>\n      <td>[0, 0, 0, 0, 0, 0, 0, 0, 1, 0, 0, 0, 0, 0, 0, ...</td>\n      <td>0</td>\n      <td>[]</td>\n      <td>[\"\\\"Le\", \"soleil\", \"va\", \"moins\", \"faire\", \"so...</td>\n    </tr>\n    <tr>\n      <th>...</th>\n      <td>...</td>\n      <td>...</td>\n      <td>...</td>\n      <td>...</td>\n      <td>...</td>\n      <td>...</td>\n    </tr>\n    <tr>\n      <th>994</th>\n      <td>994</td>\n      <td>Au Ces de Las Vegas des innovations à gogo et ...</td>\n      <td>[0, 0, 0, 0, 0, 0, 0, 0, 0, 0, 0, 0, 0, 0, 0, 0]</td>\n      <td>0</td>\n      <td>[]</td>\n      <td>[\"Au\", \"Ces\", \"de\", \"Las\", \"Vegas\", \"des\", \"in...</td>\n    </tr>\n    <tr>\n      <th>995</th>\n      <td>995</td>\n      <td>Le questionnaire Jupiproust de Frédérique Matonti</td>\n      <td>[0, 0, 0, 0, 0, 0]</td>\n      <td>1</td>\n      <td>[]</td>\n      <td>[\"Le\", \"questionnaire\", \"Jupiproust\", \"de\", \"F...</td>\n    </tr>\n    <tr>\n      <th>996</th>\n      <td>996</td>\n      <td>Raphael - La Nuit N'en Finit Plus (cover)</td>\n      <td>[0, 0, 0, 0, 0, 0, 0, 0, 0]</td>\n      <td>0</td>\n      <td>[]</td>\n      <td>[\"Raphael\", \"-\", \"La\", \"Nuit\", \"N'\", \"en\", \"Fi...</td>\n    </tr>\n    <tr>\n      <th>997</th>\n      <td>997</td>\n      <td>Des sachets de drogue estampillés Haribeu sais...</td>\n      <td>[0, 0, 0, 0, 0, 0, 0, 0, 0, 0, 0, 0, 0, 0, 0, ...</td>\n      <td>1</td>\n      <td>[]</td>\n      <td>[\"Des\", \"sachets\", \"de\", \"drogue\", \"estampill\\...</td>\n    </tr>\n    <tr>\n      <th>998</th>\n      <td>998</td>\n      <td>\"1984\" par Xavier Coste : Prix Bd Fnac France ...</td>\n      <td>[0, 0, 0, 0, 0, 0, 0, 0, 0, 0, 0]</td>\n      <td>0</td>\n      <td>[]</td>\n      <td>[\"\\\"1984\\\"\", \"par\", \"Xavier\", \"Coste\", \":\", \"P...</td>\n    </tr>\n  </tbody>\n</table>\n<p>999 rows × 6 columns</p>\n</div>"
     },
     "execution_count": 83,
     "metadata": {},
     "output_type": "execute_result"
    }
   ],
   "source": [
    "tagger = SequenceTagger.load(\"qanastek/pos-french\")\n",
    "input_filename=(\"../data/raw/train.csv\")\n",
    "\n",
    "df_base = make_dataset(input_filename)\n",
    "df_base"
   ],
   "metadata": {
    "collapsed": false,
    "ExecuteTime": {
     "end_time": "2023-11-05T22:18:56.026330300Z",
     "start_time": "2023-11-05T22:18:38.661794800Z"
    }
   },
   "id": "d06373b813384a5b"
  },
  {
   "cell_type": "code",
   "execution_count": 84,
   "outputs": [
    {
     "data": {
      "text/plain": "     Unnamed: 0                                         video_name  \\\n0             0  Le Barbecue Disney - La chanson de Frédéric Fr...   \n1             1  Le Roi et l'Oiseau - La Chronique de Christine...   \n2             2  L'amour du lac - La chronique d'Hippolyte Gira...   \n3             3  La fille de la piscine de Léa Tourret - La chr...   \n4             4  \"Le soleil va moins faire son malin quand Jean...   \n..          ...                                                ...   \n994         994  Au Ces de Las Vegas des innovations à gogo et ...   \n995         995  Le questionnaire Jupiproust de Frédérique Matonti   \n996         996          Raphael - La Nuit N'en Finit Plus (cover)   \n997         997  Des sachets de drogue estampillés Haribeu sais...   \n998         998  \"1984\" par Xavier Coste : Prix Bd Fnac France ...   \n\n                                               is_name  is_comic  \\\n0                          [0, 0, 0, 0, 0, 0, 0, 1, 1]         1   \n1                    [0, 0, 0, 0, 0, 0, 0, 0, 0, 1, 1]         1   \n2                       [0, 0, 0, 0, 0, 0, 0, 0, 1, 1]         1   \n3           [0, 0, 0, 0, 0, 0, 0, 0, 0, 0, 0, 0, 1, 1]         0   \n4    [0, 0, 0, 0, 0, 0, 0, 0, 1, 0, 0, 0, 0, 0, 0, ...         0   \n..                                                 ...       ...   \n994   [0, 0, 0, 0, 0, 0, 0, 0, 0, 0, 0, 0, 0, 0, 0, 0]         0   \n995                                 [0, 0, 0, 0, 0, 0]         1   \n996                        [0, 0, 0, 0, 0, 0, 0, 0, 0]         0   \n997  [0, 0, 0, 0, 0, 0, 0, 0, 0, 0, 0, 0, 0, 0, 0, ...         1   \n998                  [0, 0, 0, 0, 0, 0, 0, 0, 0, 0, 0]         0   \n\n                 comic_name                                             tokens  \n0       [\"Frédéric Fromet\"]  [Le, Barbecue, Disney, -, La, chanson, de, Fré...  \n1    [\"Christine Gonzalez\"]  [Le, Roi, et, l', Oiseau, -, La, Chronique, de...  \n2    [\"Hippolyte Girardot\"]  [L', amour, du, lac, -, La, chronique, d', Hip...  \n3                        []  [La, fille, de, la, piscine, de, Léa, Tourret,...  \n4                        []  [\"Le, soleil, va, moins, faire, son, malin, qu...  \n..                      ...                                                ...  \n994                      []  [Au, Ces, de, Las, Vegas, des, innovations, à,...  \n995                      []  [Le, questionnaire, Jupiproust, de, Frédérique...  \n996                      []  [Raphael, -, La, Nuit, N', en, Finit, Plus, (c...  \n997                      []  [Des, sachets, de, drogue, estampillés, Haribe...  \n998                      []  [\"1984\", par, Xavier, Coste, :, Prix, Bd, Fnac...  \n\n[999 rows x 6 columns]",
      "text/html": "<div>\n<style scoped>\n    .dataframe tbody tr th:only-of-type {\n        vertical-align: middle;\n    }\n\n    .dataframe tbody tr th {\n        vertical-align: top;\n    }\n\n    .dataframe thead th {\n        text-align: right;\n    }\n</style>\n<table border=\"1\" class=\"dataframe\">\n  <thead>\n    <tr style=\"text-align: right;\">\n      <th></th>\n      <th>Unnamed: 0</th>\n      <th>video_name</th>\n      <th>is_name</th>\n      <th>is_comic</th>\n      <th>comic_name</th>\n      <th>tokens</th>\n    </tr>\n  </thead>\n  <tbody>\n    <tr>\n      <th>0</th>\n      <td>0</td>\n      <td>Le Barbecue Disney - La chanson de Frédéric Fr...</td>\n      <td>[0, 0, 0, 0, 0, 0, 0, 1, 1]</td>\n      <td>1</td>\n      <td>[\"Frédéric Fromet\"]</td>\n      <td>[Le, Barbecue, Disney, -, La, chanson, de, Fré...</td>\n    </tr>\n    <tr>\n      <th>1</th>\n      <td>1</td>\n      <td>Le Roi et l'Oiseau - La Chronique de Christine...</td>\n      <td>[0, 0, 0, 0, 0, 0, 0, 0, 0, 1, 1]</td>\n      <td>1</td>\n      <td>[\"Christine Gonzalez\"]</td>\n      <td>[Le, Roi, et, l', Oiseau, -, La, Chronique, de...</td>\n    </tr>\n    <tr>\n      <th>2</th>\n      <td>2</td>\n      <td>L'amour du lac - La chronique d'Hippolyte Gira...</td>\n      <td>[0, 0, 0, 0, 0, 0, 0, 0, 1, 1]</td>\n      <td>1</td>\n      <td>[\"Hippolyte Girardot\"]</td>\n      <td>[L', amour, du, lac, -, La, chronique, d', Hip...</td>\n    </tr>\n    <tr>\n      <th>3</th>\n      <td>3</td>\n      <td>La fille de la piscine de Léa Tourret - La chr...</td>\n      <td>[0, 0, 0, 0, 0, 0, 0, 0, 0, 0, 0, 0, 1, 1]</td>\n      <td>0</td>\n      <td>[]</td>\n      <td>[La, fille, de, la, piscine, de, Léa, Tourret,...</td>\n    </tr>\n    <tr>\n      <th>4</th>\n      <td>4</td>\n      <td>\"Le soleil va moins faire son malin quand Jean...</td>\n      <td>[0, 0, 0, 0, 0, 0, 0, 0, 1, 0, 0, 0, 0, 0, 0, ...</td>\n      <td>0</td>\n      <td>[]</td>\n      <td>[\"Le, soleil, va, moins, faire, son, malin, qu...</td>\n    </tr>\n    <tr>\n      <th>...</th>\n      <td>...</td>\n      <td>...</td>\n      <td>...</td>\n      <td>...</td>\n      <td>...</td>\n      <td>...</td>\n    </tr>\n    <tr>\n      <th>994</th>\n      <td>994</td>\n      <td>Au Ces de Las Vegas des innovations à gogo et ...</td>\n      <td>[0, 0, 0, 0, 0, 0, 0, 0, 0, 0, 0, 0, 0, 0, 0, 0]</td>\n      <td>0</td>\n      <td>[]</td>\n      <td>[Au, Ces, de, Las, Vegas, des, innovations, à,...</td>\n    </tr>\n    <tr>\n      <th>995</th>\n      <td>995</td>\n      <td>Le questionnaire Jupiproust de Frédérique Matonti</td>\n      <td>[0, 0, 0, 0, 0, 0]</td>\n      <td>1</td>\n      <td>[]</td>\n      <td>[Le, questionnaire, Jupiproust, de, Frédérique...</td>\n    </tr>\n    <tr>\n      <th>996</th>\n      <td>996</td>\n      <td>Raphael - La Nuit N'en Finit Plus (cover)</td>\n      <td>[0, 0, 0, 0, 0, 0, 0, 0, 0]</td>\n      <td>0</td>\n      <td>[]</td>\n      <td>[Raphael, -, La, Nuit, N', en, Finit, Plus, (c...</td>\n    </tr>\n    <tr>\n      <th>997</th>\n      <td>997</td>\n      <td>Des sachets de drogue estampillés Haribeu sais...</td>\n      <td>[0, 0, 0, 0, 0, 0, 0, 0, 0, 0, 0, 0, 0, 0, 0, ...</td>\n      <td>1</td>\n      <td>[]</td>\n      <td>[Des, sachets, de, drogue, estampillés, Haribe...</td>\n    </tr>\n    <tr>\n      <th>998</th>\n      <td>998</td>\n      <td>\"1984\" par Xavier Coste : Prix Bd Fnac France ...</td>\n      <td>[0, 0, 0, 0, 0, 0, 0, 0, 0, 0, 0]</td>\n      <td>0</td>\n      <td>[]</td>\n      <td>[\"1984\", par, Xavier, Coste, :, Prix, Bd, Fnac...</td>\n    </tr>\n  </tbody>\n</table>\n<p>999 rows × 6 columns</p>\n</div>"
     },
     "execution_count": 84,
     "metadata": {},
     "output_type": "execute_result"
    }
   ],
   "source": [
    "df_base[\"is_name\"] = df_base[\"is_name\"].apply(eval)\n",
    "df_base[\"tokens\"] = df_base[\"tokens\"].apply(eval)\n",
    "df_base"
   ],
   "metadata": {
    "collapsed": false,
    "ExecuteTime": {
     "end_time": "2023-11-05T22:18:56.308700900Z",
     "start_time": "2023-11-05T22:18:55.990968800Z"
    }
   },
   "id": "73579b97bd284a1f"
  },
  {
   "cell_type": "code",
   "execution_count": 86,
   "outputs": [],
   "source": [
    "def pos_tagging(phrase, is_name):\n",
    "    result = pd.DataFrame(columns=['words', 'tags'])\n",
    "    for i in range(len(phrase)):\n",
    "        word = phrase[i]\n",
    "\n",
    "        if(word):\n",
    "            sentence = Sentence(word)\n",
    "            tagger.predict(sentence)\n",
    "        \n",
    "            # First word : <s> (starting)\n",
    "            word = word + \"<s>\" if i == 0 else word\n",
    "            # Last word : <e> (end)\n",
    "            word = word + \"<e>\" if i == (len(phrase) - 1) else word\n",
    "            # Capitalized word : <c> (caps)\n",
    "            word = word + \"<c>\" if len(word.replace('\"', '').strip()) > 0 and (word.replace('\"', '').strip())[0].isupper() else word\n",
    "        \n",
    "            values = pd.DataFrame([{'words': word, 'tags': sentence.tag}])\n",
    "                \n",
    "            result = pd.concat([result, values], axis=0, ignore_index=True)\n",
    "        \n",
    "    result['is_name'] = pd.DataFrame({'is_name': is_name})\n",
    "    \n",
    "    return(result)"
   ],
   "metadata": {
    "collapsed": false,
    "ExecuteTime": {
     "end_time": "2023-11-05T22:18:58.356584900Z",
     "start_time": "2023-11-05T22:18:58.337982700Z"
    }
   },
   "id": "4837bb0f902bcae9"
  },
  {
   "cell_type": "code",
   "execution_count": 87,
   "outputs": [
    {
     "data": {
      "text/plain": "             words   tags is_name\n0         Le<s><c>  DETMS       0\n1      Barbecue<c>    NMS       0\n2        Disney<c>  PROPN       0\n3                -  PUNCT       0\n4            La<c>  DETFS       0\n...            ...    ...     ...\n12285        Bd<c>  PROPN       0\n12286      Fnac<c>  PROPN       0\n12287    France<c>  PROPN       0\n12288     Inter<c>  PROPN       0\n12289      2022<e>   CHIF       0\n\n[12290 rows x 3 columns]",
      "text/html": "<div>\n<style scoped>\n    .dataframe tbody tr th:only-of-type {\n        vertical-align: middle;\n    }\n\n    .dataframe tbody tr th {\n        vertical-align: top;\n    }\n\n    .dataframe thead th {\n        text-align: right;\n    }\n</style>\n<table border=\"1\" class=\"dataframe\">\n  <thead>\n    <tr style=\"text-align: right;\">\n      <th></th>\n      <th>words</th>\n      <th>tags</th>\n      <th>is_name</th>\n    </tr>\n  </thead>\n  <tbody>\n    <tr>\n      <th>0</th>\n      <td>Le&lt;s&gt;&lt;c&gt;</td>\n      <td>DETMS</td>\n      <td>0</td>\n    </tr>\n    <tr>\n      <th>1</th>\n      <td>Barbecue&lt;c&gt;</td>\n      <td>NMS</td>\n      <td>0</td>\n    </tr>\n    <tr>\n      <th>2</th>\n      <td>Disney&lt;c&gt;</td>\n      <td>PROPN</td>\n      <td>0</td>\n    </tr>\n    <tr>\n      <th>3</th>\n      <td>-</td>\n      <td>PUNCT</td>\n      <td>0</td>\n    </tr>\n    <tr>\n      <th>4</th>\n      <td>La&lt;c&gt;</td>\n      <td>DETFS</td>\n      <td>0</td>\n    </tr>\n    <tr>\n      <th>...</th>\n      <td>...</td>\n      <td>...</td>\n      <td>...</td>\n    </tr>\n    <tr>\n      <th>12285</th>\n      <td>Bd&lt;c&gt;</td>\n      <td>PROPN</td>\n      <td>0</td>\n    </tr>\n    <tr>\n      <th>12286</th>\n      <td>Fnac&lt;c&gt;</td>\n      <td>PROPN</td>\n      <td>0</td>\n    </tr>\n    <tr>\n      <th>12287</th>\n      <td>France&lt;c&gt;</td>\n      <td>PROPN</td>\n      <td>0</td>\n    </tr>\n    <tr>\n      <th>12288</th>\n      <td>Inter&lt;c&gt;</td>\n      <td>PROPN</td>\n      <td>0</td>\n    </tr>\n    <tr>\n      <th>12289</th>\n      <td>2022&lt;e&gt;</td>\n      <td>CHIF</td>\n      <td>0</td>\n    </tr>\n  </tbody>\n</table>\n<p>12290 rows × 3 columns</p>\n</div>"
     },
     "execution_count": 87,
     "metadata": {},
     "output_type": "execute_result"
    }
   ],
   "source": [
    "df = pd.DataFrame(columns=['words', 'tags', 'is_name'])\n",
    "\n",
    "for i in df_base.index:\n",
    "    tokens = df_base.loc[i, 'tokens']\n",
    "    names = [int(i) for i in df_base.loc[i, 'is_name']]\n",
    "    result = pos_tagging(tokens, names)\n",
    "    df = pd.concat([df, result], axis=0, ignore_index=True)\n",
    "    \n",
    "df"
   ],
   "metadata": {
    "collapsed": false,
    "ExecuteTime": {
     "end_time": "2023-11-05T22:20:04.761136500Z",
     "start_time": "2023-11-05T22:18:59.904031700Z"
    }
   },
   "id": "dd06e8183192bd83"
  },
  {
   "cell_type": "code",
   "execution_count": 88,
   "outputs": [
    {
     "data": {
      "text/plain": "       tags  counts\n0       ADJ      31\n1     ADJFP      56\n2     ADJFS     297\n3     ADJMP      96\n4     ADJMS     137\n5       ADV     370\n6       AUX     142\n7      CHIF     114\n8      COCO     202\n9     COSUB      68\n10      DET     418\n11    DETFS     423\n12    DETMS     385\n13   DINTMS     217\n14     INTJ       5\n15   MOTINC       2\n16      NFP     220\n17      NFS     909\n18      NMP     265\n19      NMS     873\n20     NOUN      85\n21   PDEMFP       1\n22   PDEMFS      12\n23   PDEMMP       2\n24   PDEMMS      38\n25   PINDFP       1\n26   PINDFS      81\n27   PINDMP       5\n28   PINDMS      49\n29   PPER1S      10\n30   PPER2S       3\n31  PPER3FS       5\n32  PPER3MP       2\n33  PPER3MS      21\n34  PPOBJFS       1\n35  PPOBJMP      53\n36  PPOBJMS       2\n37     PREF      20\n38    PREFP      18\n39    PREFS       2\n40     PREL      62\n41   PRELMP       1\n42     PREP    1374\n43     PRON      13\n44    PROPN    2771\n45    PUNCT     972\n46      SYM       4\n47     VERB     476\n48    VPPFP       5\n49    VPPFS      25\n50    VPPMP      27\n51    VPPMS      67\n52    YPFOR     852",
      "text/html": "<div>\n<style scoped>\n    .dataframe tbody tr th:only-of-type {\n        vertical-align: middle;\n    }\n\n    .dataframe tbody tr th {\n        vertical-align: top;\n    }\n\n    .dataframe thead th {\n        text-align: right;\n    }\n</style>\n<table border=\"1\" class=\"dataframe\">\n  <thead>\n    <tr style=\"text-align: right;\">\n      <th></th>\n      <th>tags</th>\n      <th>counts</th>\n    </tr>\n  </thead>\n  <tbody>\n    <tr>\n      <th>0</th>\n      <td>ADJ</td>\n      <td>31</td>\n    </tr>\n    <tr>\n      <th>1</th>\n      <td>ADJFP</td>\n      <td>56</td>\n    </tr>\n    <tr>\n      <th>2</th>\n      <td>ADJFS</td>\n      <td>297</td>\n    </tr>\n    <tr>\n      <th>3</th>\n      <td>ADJMP</td>\n      <td>96</td>\n    </tr>\n    <tr>\n      <th>4</th>\n      <td>ADJMS</td>\n      <td>137</td>\n    </tr>\n    <tr>\n      <th>5</th>\n      <td>ADV</td>\n      <td>370</td>\n    </tr>\n    <tr>\n      <th>6</th>\n      <td>AUX</td>\n      <td>142</td>\n    </tr>\n    <tr>\n      <th>7</th>\n      <td>CHIF</td>\n      <td>114</td>\n    </tr>\n    <tr>\n      <th>8</th>\n      <td>COCO</td>\n      <td>202</td>\n    </tr>\n    <tr>\n      <th>9</th>\n      <td>COSUB</td>\n      <td>68</td>\n    </tr>\n    <tr>\n      <th>10</th>\n      <td>DET</td>\n      <td>418</td>\n    </tr>\n    <tr>\n      <th>11</th>\n      <td>DETFS</td>\n      <td>423</td>\n    </tr>\n    <tr>\n      <th>12</th>\n      <td>DETMS</td>\n      <td>385</td>\n    </tr>\n    <tr>\n      <th>13</th>\n      <td>DINTMS</td>\n      <td>217</td>\n    </tr>\n    <tr>\n      <th>14</th>\n      <td>INTJ</td>\n      <td>5</td>\n    </tr>\n    <tr>\n      <th>15</th>\n      <td>MOTINC</td>\n      <td>2</td>\n    </tr>\n    <tr>\n      <th>16</th>\n      <td>NFP</td>\n      <td>220</td>\n    </tr>\n    <tr>\n      <th>17</th>\n      <td>NFS</td>\n      <td>909</td>\n    </tr>\n    <tr>\n      <th>18</th>\n      <td>NMP</td>\n      <td>265</td>\n    </tr>\n    <tr>\n      <th>19</th>\n      <td>NMS</td>\n      <td>873</td>\n    </tr>\n    <tr>\n      <th>20</th>\n      <td>NOUN</td>\n      <td>85</td>\n    </tr>\n    <tr>\n      <th>21</th>\n      <td>PDEMFP</td>\n      <td>1</td>\n    </tr>\n    <tr>\n      <th>22</th>\n      <td>PDEMFS</td>\n      <td>12</td>\n    </tr>\n    <tr>\n      <th>23</th>\n      <td>PDEMMP</td>\n      <td>2</td>\n    </tr>\n    <tr>\n      <th>24</th>\n      <td>PDEMMS</td>\n      <td>38</td>\n    </tr>\n    <tr>\n      <th>25</th>\n      <td>PINDFP</td>\n      <td>1</td>\n    </tr>\n    <tr>\n      <th>26</th>\n      <td>PINDFS</td>\n      <td>81</td>\n    </tr>\n    <tr>\n      <th>27</th>\n      <td>PINDMP</td>\n      <td>5</td>\n    </tr>\n    <tr>\n      <th>28</th>\n      <td>PINDMS</td>\n      <td>49</td>\n    </tr>\n    <tr>\n      <th>29</th>\n      <td>PPER1S</td>\n      <td>10</td>\n    </tr>\n    <tr>\n      <th>30</th>\n      <td>PPER2S</td>\n      <td>3</td>\n    </tr>\n    <tr>\n      <th>31</th>\n      <td>PPER3FS</td>\n      <td>5</td>\n    </tr>\n    <tr>\n      <th>32</th>\n      <td>PPER3MP</td>\n      <td>2</td>\n    </tr>\n    <tr>\n      <th>33</th>\n      <td>PPER3MS</td>\n      <td>21</td>\n    </tr>\n    <tr>\n      <th>34</th>\n      <td>PPOBJFS</td>\n      <td>1</td>\n    </tr>\n    <tr>\n      <th>35</th>\n      <td>PPOBJMP</td>\n      <td>53</td>\n    </tr>\n    <tr>\n      <th>36</th>\n      <td>PPOBJMS</td>\n      <td>2</td>\n    </tr>\n    <tr>\n      <th>37</th>\n      <td>PREF</td>\n      <td>20</td>\n    </tr>\n    <tr>\n      <th>38</th>\n      <td>PREFP</td>\n      <td>18</td>\n    </tr>\n    <tr>\n      <th>39</th>\n      <td>PREFS</td>\n      <td>2</td>\n    </tr>\n    <tr>\n      <th>40</th>\n      <td>PREL</td>\n      <td>62</td>\n    </tr>\n    <tr>\n      <th>41</th>\n      <td>PRELMP</td>\n      <td>1</td>\n    </tr>\n    <tr>\n      <th>42</th>\n      <td>PREP</td>\n      <td>1374</td>\n    </tr>\n    <tr>\n      <th>43</th>\n      <td>PRON</td>\n      <td>13</td>\n    </tr>\n    <tr>\n      <th>44</th>\n      <td>PROPN</td>\n      <td>2771</td>\n    </tr>\n    <tr>\n      <th>45</th>\n      <td>PUNCT</td>\n      <td>972</td>\n    </tr>\n    <tr>\n      <th>46</th>\n      <td>SYM</td>\n      <td>4</td>\n    </tr>\n    <tr>\n      <th>47</th>\n      <td>VERB</td>\n      <td>476</td>\n    </tr>\n    <tr>\n      <th>48</th>\n      <td>VPPFP</td>\n      <td>5</td>\n    </tr>\n    <tr>\n      <th>49</th>\n      <td>VPPFS</td>\n      <td>25</td>\n    </tr>\n    <tr>\n      <th>50</th>\n      <td>VPPMP</td>\n      <td>27</td>\n    </tr>\n    <tr>\n      <th>51</th>\n      <td>VPPMS</td>\n      <td>67</td>\n    </tr>\n    <tr>\n      <th>52</th>\n      <td>YPFOR</td>\n      <td>852</td>\n    </tr>\n  </tbody>\n</table>\n</div>"
     },
     "execution_count": 88,
     "metadata": {},
     "output_type": "execute_result"
    }
   ],
   "source": [
    "counting = df.groupby('tags').size().reset_index(name='counts')\n",
    "counting"
   ],
   "metadata": {
    "collapsed": false,
    "ExecuteTime": {
     "end_time": "2023-11-05T22:20:04.792821800Z",
     "start_time": "2023-11-05T22:20:04.745771800Z"
    }
   },
   "id": "d4b4ea75bb967c0"
  },
  {
   "cell_type": "code",
   "execution_count": 89,
   "outputs": [
    {
     "data": {
      "text/plain": "<Figure size 640x480 with 1 Axes>",
      "image/png": "[encoded data removed]"
     },
     "metadata": {},
     "output_type": "display_data"
    }
   ],
   "source": [
    "import matplotlib.pyplot as plt\n",
    "from wordcloud import WordCloud\n",
    "\n",
    "wordcloud = WordCloud(width=480, height=480, background_color=\"white\").generate_from_frequencies(dict([tuple(x) for x in counting.values]))\n",
    "plt.figure()\n",
    "plt.imshow(wordcloud, interpolation=\"bilinear\")\n",
    "plt.axis(\"off\")\n",
    "plt.show()"
   ],
   "metadata": {
    "collapsed": false,
    "ExecuteTime": {
     "end_time": "2023-11-05T22:20:05.550233400Z",
     "start_time": "2023-11-05T22:20:04.770383200Z"
    }
   },
   "id": "8b9ad275d609a367"
  },
  {
   "cell_type": "code",
   "execution_count": 90,
   "outputs": [
    {
     "data": {
      "text/plain": "             words   tags\n0         Le<s><c>  DETMS\n1      Barbecue<c>    NMS\n2        Disney<c>  PROPN\n3                -  PUNCT\n4            La<c>  DETFS\n...            ...    ...\n12285        Bd<c>  PROPN\n12286      Fnac<c>  PROPN\n12287    France<c>  PROPN\n12288     Inter<c>  PROPN\n12289      2022<e>   CHIF\n\n[12290 rows x 2 columns]",
      "text/html": "<div>\n<style scoped>\n    .dataframe tbody tr th:only-of-type {\n        vertical-align: middle;\n    }\n\n    .dataframe tbody tr th {\n        vertical-align: top;\n    }\n\n    .dataframe thead th {\n        text-align: right;\n    }\n</style>\n<table border=\"1\" class=\"dataframe\">\n  <thead>\n    <tr style=\"text-align: right;\">\n      <th></th>\n      <th>words</th>\n      <th>tags</th>\n    </tr>\n  </thead>\n  <tbody>\n    <tr>\n      <th>0</th>\n      <td>Le&lt;s&gt;&lt;c&gt;</td>\n      <td>DETMS</td>\n    </tr>\n    <tr>\n      <th>1</th>\n      <td>Barbecue&lt;c&gt;</td>\n      <td>NMS</td>\n    </tr>\n    <tr>\n      <th>2</th>\n      <td>Disney&lt;c&gt;</td>\n      <td>PROPN</td>\n    </tr>\n    <tr>\n      <th>3</th>\n      <td>-</td>\n      <td>PUNCT</td>\n    </tr>\n    <tr>\n      <th>4</th>\n      <td>La&lt;c&gt;</td>\n      <td>DETFS</td>\n    </tr>\n    <tr>\n      <th>...</th>\n      <td>...</td>\n      <td>...</td>\n    </tr>\n    <tr>\n      <th>12285</th>\n      <td>Bd&lt;c&gt;</td>\n      <td>PROPN</td>\n    </tr>\n    <tr>\n      <th>12286</th>\n      <td>Fnac&lt;c&gt;</td>\n      <td>PROPN</td>\n    </tr>\n    <tr>\n      <th>12287</th>\n      <td>France&lt;c&gt;</td>\n      <td>PROPN</td>\n    </tr>\n    <tr>\n      <th>12288</th>\n      <td>Inter&lt;c&gt;</td>\n      <td>PROPN</td>\n    </tr>\n    <tr>\n      <th>12289</th>\n      <td>2022&lt;e&gt;</td>\n      <td>CHIF</td>\n    </tr>\n  </tbody>\n</table>\n<p>12290 rows × 2 columns</p>\n</div>"
     },
     "execution_count": 90,
     "metadata": {},
     "output_type": "execute_result"
    }
   ],
   "source": [
    "X = df.drop('is_name', axis=1)\n",
    "y = df.is_name.values\n",
    "\n",
    "X"
   ],
   "metadata": {
    "collapsed": false,
    "ExecuteTime": {
     "end_time": "2023-11-05T22:20:05.577156500Z",
     "start_time": "2023-11-05T22:20:05.548233300Z"
    }
   },
   "id": "fb5f1d72995d0b42"
  },
  {
   "cell_type": "code",
   "execution_count": 91,
   "outputs": [
    {
     "data": {
      "text/plain": "array([0, 0, 0, ..., 0, 0, 0], dtype=object)"
     },
     "execution_count": 91,
     "metadata": {},
     "output_type": "execute_result"
    }
   ],
   "source": [
    "y"
   ],
   "metadata": {
    "collapsed": false,
    "ExecuteTime": {
     "end_time": "2023-11-05T22:20:05.729472100Z",
     "start_time": "2023-11-05T22:20:05.579156500Z"
    }
   },
   "id": "50d30c261b2b8efe"
  },
  {
   "cell_type": "code",
   "execution_count": 93,
   "outputs": [
    {
     "data": {
      "text/plain": "((12290, 2), (12290,))"
     },
     "execution_count": 93,
     "metadata": {},
     "output_type": "execute_result"
    }
   ],
   "source": [
    "X.shape, y.shape"
   ],
   "metadata": {
    "collapsed": false,
    "ExecuteTime": {
     "end_time": "2023-11-05T22:20:05.730471800Z",
     "start_time": "2023-11-05T22:20:05.605354Z"
    }
   },
   "id": "c2ef5310029e3baf"
  },
  {
   "cell_type": "markdown",
   "source": [
    "GradientBoostingClassifier"
   ],
   "metadata": {
    "collapsed": false
   },
   "id": "1a094e77a676c581"
  },
  {
   "cell_type": "code",
   "execution_count": 94,
   "outputs": [],
   "source": [
    "pipeline = Pipeline([\n",
    "            (\"vectorizer\", DictVectorizer(sparse=False)),\n",
    "            (\"classifier\", GradientBoostingClassifier(n_estimators=150, criterion='squared_error')),\n",
    "        ])"
   ],
   "metadata": {
    "collapsed": false,
    "ExecuteTime": {
     "end_time": "2023-11-05T22:20:05.730471800Z",
     "start_time": "2023-11-05T22:20:05.624741700Z"
    }
   },
   "id": "bcf2a6ab4116187a"
  },
  {
   "cell_type": "code",
   "execution_count": null,
   "outputs": [],
   "source": [
    "results = cross_validate(pipeline, X.to_dict('records'), y.astype(int), scoring=\"accuracy\", cv=10, return_estimator=True)"
   ],
   "metadata": {
    "collapsed": false,
    "is_executing": true,
    "ExecuteTime": {
     "start_time": "2023-11-05T22:20:05.640408400Z"
    }
   },
   "id": "c8255b253640de8a"
  },
  {
   "cell_type": "code",
   "execution_count": null,
   "outputs": [],
   "source": [
    "scores = results[\"test_score\"]\n",
    "\n",
    "print(f\"Accuracy per fold : {scores}\")\n",
    "print(f\"Global accuracy {100 * np.mean(scores)}% + {np.std(scores)}\")"
   ],
   "metadata": {
    "collapsed": false,
    "is_executing": true
   },
   "id": "a98ba8b9687f8ed5"
  },
  {
   "cell_type": "markdown",
   "source": [
    "RandomForestClassifier"
   ],
   "metadata": {
    "collapsed": false
   },
   "id": "d195e832a0d63df4"
  },
  {
   "cell_type": "code",
   "execution_count": 10,
   "outputs": [],
   "source": [
    "pipeline_rf = Pipeline([\n",
    "            (\"vectorizer\", DictVectorizer(sparse=False)),\n",
    "            (\"classifier\", RandomForestClassifier()),\n",
    "        ])"
   ],
   "metadata": {
    "collapsed": false,
    "ExecuteTime": {
     "end_time": "2023-11-05T15:09:14.687963400Z",
     "start_time": "2023-11-05T15:09:14.668243900Z"
    }
   },
   "id": "67ab128a647bcda0"
  },
  {
   "cell_type": "code",
   "execution_count": 57,
   "outputs": [],
   "source": [
    "results_rf = cross_validate(pipeline_rf, X.to_dict('records'), y.astype(int), scoring=\"accuracy\", cv=10, return_estimator=True)\n",
    "scores_rf = results_rf[\"test_score\"]"
   ],
   "metadata": {
    "collapsed": false,
    "ExecuteTime": {
     "end_time": "2023-11-05T17:49:36.144442600Z",
     "start_time": "2023-11-05T17:37:26.752279800Z"
    }
   },
   "id": "defa6ca996b0eed5"
  },
  {
   "cell_type": "code",
   "execution_count": 58,
   "outputs": [
    {
     "name": "stdout",
     "output_type": "stream",
     "text": [
      "Accuracy per fold : [0.96663954 0.97884459 0.96094386 0.95524817 0.96094386 0.95606184\n",
      " 0.95768918 0.95850285 0.95687551 0.95362083]\n",
      "Global accuracy 96.05370219690805% + 0.007030124611974894\n"
     ]
    }
   ],
   "source": [
    "print(f\"Accuracy per fold : {scores_rf}\")\n",
    "print(f\"Global accuracy {100 * np.mean(scores_rf)}% + {np.std(scores_rf)}\")"
   ],
   "metadata": {
    "collapsed": false,
    "ExecuteTime": {
     "end_time": "2023-11-05T17:49:36.171795800Z",
     "start_time": "2023-11-05T17:49:36.145477800Z"
    }
   },
   "id": "7b65985d4a9722a6"
  },
  {
   "cell_type": "markdown",
   "source": [
    "Test without starting, ending and capital tags"
   ],
   "metadata": {
    "collapsed": false
   },
   "id": "c067f6c49b5cfdfa"
  },
  {
   "cell_type": "code",
   "execution_count": 16,
   "outputs": [],
   "source": [
    "def pos_tagging_simple(phrase, is_name):\n",
    "    result = pd.DataFrame(columns=['words', 'tags'])\n",
    "    for i in range(len(phrase)):\n",
    "        word = phrase[i]\n",
    "\n",
    "        if (word):\n",
    "            sentence = Sentence(word)\n",
    "            tagger.predict(sentence)\n",
    "            values = pd.DataFrame([{'words': word, 'tags': sentence.tag}])\n",
    "            result = pd.concat([result, values], axis=0, ignore_index=True)\n",
    "\n",
    "    result['is_name'] = pd.DataFrame({'is_name': is_name})\n",
    "\n",
    "    return (result)"
   ],
   "metadata": {
    "collapsed": false,
    "ExecuteTime": {
     "end_time": "2023-11-05T15:20:12.351923300Z",
     "start_time": "2023-11-05T15:20:12.348408200Z"
    }
   },
   "id": "100727d14f72999f"
  },
  {
   "cell_type": "code",
   "execution_count": 17,
   "outputs": [],
   "source": [
    "df_simple = pd.DataFrame(columns=['words', 'tags', 'is_name'])\n",
    "\n",
    "for i in df_base.index:\n",
    "    tokens = df_base.loc[i, 'tokens']\n",
    "    names = [int(i) for i in df_base.loc[i, 'is_name']]\n",
    "    result = pos_tagging_simple(tokens, names)\n",
    "    df_simple = pd.concat([df_simple, result], axis=0, ignore_index=True)"
   ],
   "metadata": {
    "collapsed": false,
    "ExecuteTime": {
     "end_time": "2023-11-05T15:21:35.573291600Z",
     "start_time": "2023-11-05T15:20:23.814718200Z"
    }
   },
   "id": "cd65ffa7757aa9c0"
  },
  {
   "cell_type": "code",
   "execution_count": 65,
   "outputs": [
    {
     "data": {
      "text/plain": "          words   tags is_name\n0            Le  DETMS       0\n1      Barbecue    NMS       0\n2        Disney  PROPN       0\n3             -  PUNCT       0\n4            La  DETFS       0\n...         ...    ...     ...\n12285        Bd  PROPN       0\n12286      Fnac  PROPN       0\n12287    France  PROPN       0\n12288     Inter  PROPN       0\n12289      2022   CHIF       0\n\n[12290 rows x 3 columns]",
      "text/html": "<div>\n<style scoped>\n    .dataframe tbody tr th:only-of-type {\n        vertical-align: middle;\n    }\n\n    .dataframe tbody tr th {\n        vertical-align: top;\n    }\n\n    .dataframe thead th {\n        text-align: right;\n    }\n</style>\n<table border=\"1\" class=\"dataframe\">\n  <thead>\n    <tr style=\"text-align: right;\">\n      <th></th>\n      <th>words</th>\n      <th>tags</th>\n      <th>is_name</th>\n    </tr>\n  </thead>\n  <tbody>\n    <tr>\n      <th>0</th>\n      <td>Le</td>\n      <td>DETMS</td>\n      <td>0</td>\n    </tr>\n    <tr>\n      <th>1</th>\n      <td>Barbecue</td>\n      <td>NMS</td>\n      <td>0</td>\n    </tr>\n    <tr>\n      <th>2</th>\n      <td>Disney</td>\n      <td>PROPN</td>\n      <td>0</td>\n    </tr>\n    <tr>\n      <th>3</th>\n      <td>-</td>\n      <td>PUNCT</td>\n      <td>0</td>\n    </tr>\n    <tr>\n      <th>4</th>\n      <td>La</td>\n      <td>DETFS</td>\n      <td>0</td>\n    </tr>\n    <tr>\n      <th>...</th>\n      <td>...</td>\n      <td>...</td>\n      <td>...</td>\n    </tr>\n    <tr>\n      <th>12285</th>\n      <td>Bd</td>\n      <td>PROPN</td>\n      <td>0</td>\n    </tr>\n    <tr>\n      <th>12286</th>\n      <td>Fnac</td>\n      <td>PROPN</td>\n      <td>0</td>\n    </tr>\n    <tr>\n      <th>12287</th>\n      <td>France</td>\n      <td>PROPN</td>\n      <td>0</td>\n    </tr>\n    <tr>\n      <th>12288</th>\n      <td>Inter</td>\n      <td>PROPN</td>\n      <td>0</td>\n    </tr>\n    <tr>\n      <th>12289</th>\n      <td>2022</td>\n      <td>CHIF</td>\n      <td>0</td>\n    </tr>\n  </tbody>\n</table>\n<p>12290 rows × 3 columns</p>\n</div>"
     },
     "execution_count": 65,
     "metadata": {},
     "output_type": "execute_result"
    }
   ],
   "source": [
    "df_simple"
   ],
   "metadata": {
    "collapsed": false,
    "ExecuteTime": {
     "end_time": "2023-11-05T18:24:28.138343Z",
     "start_time": "2023-11-05T18:24:28.059946600Z"
    }
   },
   "id": "9466b00dde7194a0"
  },
  {
   "cell_type": "code",
   "execution_count": 34,
   "outputs": [],
   "source": [
    "X_simple = df_simple.drop('is_name', axis=1).to_dict('records')"
   ],
   "metadata": {
    "collapsed": false,
    "ExecuteTime": {
     "end_time": "2023-11-05T15:55:20.512121200Z",
     "start_time": "2023-11-05T15:55:20.434188800Z"
    }
   },
   "id": "d549038d6e3f763d"
  },
  {
   "cell_type": "code",
   "execution_count": 19,
   "outputs": [],
   "source": [
    "y_simple = df_simple.is_name.values.astype(int)"
   ],
   "metadata": {
    "collapsed": false,
    "ExecuteTime": {
     "end_time": "2023-11-05T15:21:49.340792Z",
     "start_time": "2023-11-05T15:21:49.319473Z"
    }
   },
   "id": "1905b5bf40071f68"
  },
  {
   "cell_type": "code",
   "execution_count": 59,
   "outputs": [],
   "source": [
    "results_rf_2 = cross_validate(pipeline_rf, X_simple, y_simple, scoring=\"accuracy\", cv=10, return_estimator=True)\n",
    "scores_rf_2 = results_rf_2[\"test_score\"]"
   ],
   "metadata": {
    "collapsed": false,
    "ExecuteTime": {
     "end_time": "2023-11-05T18:01:28.486531300Z",
     "start_time": "2023-11-05T17:49:36.158622Z"
    }
   },
   "id": "1e7570ee4344d6a"
  },
  {
   "cell_type": "code",
   "execution_count": 60,
   "outputs": [
    {
     "name": "stdout",
     "output_type": "stream",
     "text": [
      "Accuracy per fold : [0.96826688 0.97477624 0.96175753 0.95768918 0.96175753 0.95687551\n",
      " 0.95362083 0.9625712  0.95199349 0.95362083]\n",
      "Global accuracy 96.0292921074044% + 0.0067764565707589906\n"
     ]
    }
   ],
   "source": [
    "print(f\"Accuracy per fold : {scores_rf_2}\")\n",
    "print(f\"Global accuracy {100 * np.mean(scores_rf_2)}% + {np.std(scores_rf_2)}\")"
   ],
   "metadata": {
    "collapsed": false,
    "ExecuteTime": {
     "end_time": "2023-11-05T18:01:28.501061900Z",
     "start_time": "2023-11-05T18:01:28.488530700Z"
    }
   },
   "id": "72d51284624afab8"
  },
  {
   "cell_type": "markdown",
   "source": [
    "Adding stemming"
   ],
   "metadata": {
    "collapsed": false
   },
   "id": "fa1439cedccf1a2b"
  },
  {
   "cell_type": "code",
   "execution_count": 23,
   "outputs": [],
   "source": [
    "from nltk.stem.snowball import FrenchStemmer\n",
    "stemmer = FrenchStemmer()\n",
    "    \n",
    "def pos_tagging_st(phrase, is_name):\n",
    "    result = pd.DataFrame(columns=['words', 'tags'])\n",
    "    for i in range(len(phrase)):\n",
    "        word = phrase[i]\n",
    "\n",
    "        if(word):\n",
    "            sentence = Sentence(word)\n",
    "            tagger.predict(sentence)\n",
    "            word_st = stemmer.stem(word)\n",
    "        \n",
    "            # First word : <s> (starting)\n",
    "            word_st = word_st + \"<s>\" if i == 0 else word_st\n",
    "            # Last word : <e> (end)\n",
    "            word_st = word_st + \"<e>\" if i == (len(phrase) - 1) else word_st\n",
    "            # Capitalized word : <c> (caps)\n",
    "            word_st = word_st + \"<c>\" if len(word.replace('\"', '').strip()) > 0 and (word.replace('\"', '').strip())[0].isupper() else word_st\n",
    "        \n",
    "            values = pd.DataFrame([{'words': word_st, 'tags': sentence.tag}])\n",
    "            \n",
    "            result = pd.concat([result, values], axis=0, ignore_index=True)\n",
    "        \n",
    "    result['is_name'] = pd.DataFrame({'is_name': is_name})\n",
    "    \n",
    "    return(result)"
   ],
   "metadata": {
    "collapsed": false,
    "ExecuteTime": {
     "end_time": "2023-11-05T15:29:14.247311600Z",
     "start_time": "2023-11-05T15:29:14.226739300Z"
    }
   },
   "id": "7e88bd25a67b9594"
  },
  {
   "cell_type": "code",
   "execution_count": 24,
   "outputs": [],
   "source": [
    "df_st = pd.DataFrame(columns=['words', 'tags', 'is_name'])\n",
    "\n",
    "for i in df_base.index:\n",
    "    tokens = df_base.loc[i, 'tokens']\n",
    "    names = [int(i) for i in df_base.loc[i, 'is_name']]\n",
    "    result = pos_tagging_st(tokens, names)\n",
    "    df_st = pd.concat([df_st, result], axis=0, ignore_index=True)"
   ],
   "metadata": {
    "collapsed": false,
    "ExecuteTime": {
     "end_time": "2023-11-05T15:30:19.434818800Z",
     "start_time": "2023-11-05T15:29:18.206214600Z"
    }
   },
   "id": "9578688805a409b5"
  },
  {
   "cell_type": "code",
   "execution_count": 28,
   "outputs": [
    {
     "data": {
      "text/plain": "          words   tags is_name\n12285     bd<c>  PROPN       0\n12286   fnac<c>  PROPN       0\n12287  franc<c>  PROPN       0\n12288  inter<c>  PROPN       0\n12289   2022<e>   CHIF       0",
      "text/html": "<div>\n<style scoped>\n    .dataframe tbody tr th:only-of-type {\n        vertical-align: middle;\n    }\n\n    .dataframe tbody tr th {\n        vertical-align: top;\n    }\n\n    .dataframe thead th {\n        text-align: right;\n    }\n</style>\n<table border=\"1\" class=\"dataframe\">\n  <thead>\n    <tr style=\"text-align: right;\">\n      <th></th>\n      <th>words</th>\n      <th>tags</th>\n      <th>is_name</th>\n    </tr>\n  </thead>\n  <tbody>\n    <tr>\n      <th>12285</th>\n      <td>bd&lt;c&gt;</td>\n      <td>PROPN</td>\n      <td>0</td>\n    </tr>\n    <tr>\n      <th>12286</th>\n      <td>fnac&lt;c&gt;</td>\n      <td>PROPN</td>\n      <td>0</td>\n    </tr>\n    <tr>\n      <th>12287</th>\n      <td>franc&lt;c&gt;</td>\n      <td>PROPN</td>\n      <td>0</td>\n    </tr>\n    <tr>\n      <th>12288</th>\n      <td>inter&lt;c&gt;</td>\n      <td>PROPN</td>\n      <td>0</td>\n    </tr>\n    <tr>\n      <th>12289</th>\n      <td>2022&lt;e&gt;</td>\n      <td>CHIF</td>\n      <td>0</td>\n    </tr>\n  </tbody>\n</table>\n</div>"
     },
     "execution_count": 28,
     "metadata": {},
     "output_type": "execute_result"
    }
   ],
   "source": [
    "df_st.tail()"
   ],
   "metadata": {
    "collapsed": false,
    "ExecuteTime": {
     "end_time": "2023-11-05T15:51:21.703228800Z",
     "start_time": "2023-11-05T15:51:21.665782800Z"
    }
   },
   "id": "1dc4aaadf97040e5"
  },
  {
   "cell_type": "code",
   "execution_count": 25,
   "outputs": [],
   "source": [
    "X_st = df_st.drop('is_name', axis=1).to_dict('records')\n",
    "y_st = df_st.is_name.values.astype(int)"
   ],
   "metadata": {
    "collapsed": false,
    "ExecuteTime": {
     "end_time": "2023-11-05T15:30:30.408081700Z",
     "start_time": "2023-11-05T15:30:30.391093200Z"
    }
   },
   "id": "845370e86293082d"
  },
  {
   "cell_type": "code",
   "execution_count": 61,
   "outputs": [],
   "source": [
    "results_rf_3 = cross_validate(pipeline_rf, X_st, y_st, scoring=\"accuracy\", cv=10, return_estimator=True)\n",
    "scores_rf_3 = results_rf_3[\"test_score\"]"
   ],
   "metadata": {
    "collapsed": false,
    "ExecuteTime": {
     "end_time": "2023-11-05T18:13:53.287637700Z",
     "start_time": "2023-11-05T18:01:28.504062Z"
    }
   },
   "id": "952349ea9935a7d9"
  },
  {
   "cell_type": "code",
   "execution_count": 62,
   "outputs": [
    {
     "name": "stdout",
     "output_type": "stream",
     "text": [
      "Accuracy per fold : [0.96582587 0.97965826 0.96013019 0.95524817 0.96013019 0.95768918\n",
      " 0.95768918 0.95850285 0.95524817 0.95036615]\n",
      "Global accuracy 96.00488201790073% + 0.007558373546367055\n"
     ]
    }
   ],
   "source": [
    "print(f\"Accuracy per fold : {scores_rf_3}\")\n",
    "print(f\"Global accuracy {100 * np.mean(scores_rf_3)}% + {np.std(scores_rf_3)}\")"
   ],
   "metadata": {
    "collapsed": false,
    "ExecuteTime": {
     "end_time": "2023-11-05T18:13:53.303639500Z",
     "start_time": "2023-11-05T18:13:53.287637700Z"
    }
   },
   "id": "14331a745bc6bedd"
  },
  {
   "cell_type": "markdown",
   "source": [
    "Stemming without starting, ending and capital tags"
   ],
   "metadata": {
    "collapsed": false
   },
   "id": "f51cf49975823ae1"
  },
  {
   "cell_type": "markdown",
   "source": [],
   "metadata": {
    "collapsed": false
   },
   "id": "db09846d23f725dd"
  },
  {
   "cell_type": "code",
   "execution_count": 38,
   "outputs": [],
   "source": [
    "def pos_tagging_simple_st(phrase, is_name):\n",
    "    result = pd.DataFrame(columns=['words', 'tags'])\n",
    "    for i in range(len(phrase)):\n",
    "        word = phrase[i]\n",
    "        word_st = stemmer.stem(word)\n",
    "\n",
    "        if (word):\n",
    "            sentence = Sentence(word)\n",
    "            tagger.predict(sentence)\n",
    "            values = pd.DataFrame([{'words': word_st, 'tags': sentence.tag}])\n",
    "            result = pd.concat([result, values], axis=0, ignore_index=True)\n",
    "\n",
    "    result['is_name'] = pd.DataFrame({'is_name': is_name})\n",
    "\n",
    "    return (result)"
   ],
   "metadata": {
    "collapsed": false,
    "ExecuteTime": {
     "end_time": "2023-11-05T15:57:44.052942300Z",
     "start_time": "2023-11-05T15:57:44.024371Z"
    }
   },
   "id": "78e0c8bb1e50ce7f"
  },
  {
   "cell_type": "code",
   "execution_count": 39,
   "outputs": [],
   "source": [
    "df_simple_st = pd.DataFrame(columns=['words', 'tags', 'is_name'])\n",
    "\n",
    "for i in df_base.index:\n",
    "    tokens = df_base.loc[i, 'tokens']\n",
    "    names = [int(i) for i in df_base.loc[i, 'is_name']]\n",
    "    result = pos_tagging_simple_st(tokens, names)\n",
    "    df_simple_st = pd.concat([df_simple_st, result], axis=0, ignore_index=True)"
   ],
   "metadata": {
    "collapsed": false,
    "ExecuteTime": {
     "end_time": "2023-11-05T15:59:18.601688Z",
     "start_time": "2023-11-05T15:57:46.302276100Z"
    }
   },
   "id": "affe2ab3f712bf94"
  },
  {
   "cell_type": "code",
   "execution_count": 40,
   "outputs": [],
   "source": [
    "X_simple_st = df_simple_st.drop('is_name', axis=1).to_dict('records')\n",
    "y_simple_st = df_simple_st.is_name.values.astype(int)"
   ],
   "metadata": {
    "collapsed": false,
    "ExecuteTime": {
     "end_time": "2023-11-05T15:59:18.710942500Z",
     "start_time": "2023-11-05T15:59:18.606193200Z"
    }
   },
   "id": "51a42aa732eeb8c5"
  },
  {
   "cell_type": "code",
   "execution_count": 63,
   "outputs": [],
   "source": [
    "results_rf_4 = cross_validate(pipeline_rf, X_simple_st, y_simple_st, scoring=\"accuracy\", cv=10, return_estimator=True)\n",
    "scores_rf_4 = results_rf_4[\"test_score\"]"
   ],
   "metadata": {
    "collapsed": false,
    "ExecuteTime": {
     "end_time": "2023-11-05T18:24:28.043851200Z",
     "start_time": "2023-11-05T18:13:53.303639500Z"
    }
   },
   "id": "14346cd7a4acbb00"
  },
  {
   "cell_type": "code",
   "execution_count": 64,
   "outputs": [
    {
     "name": "stdout",
     "output_type": "stream",
     "text": [
      "Accuracy per fold : [0.96663954 0.97558991 0.96582587 0.95768918 0.95931652 0.95931652\n",
      " 0.95524817 0.96175753 0.95036615 0.95117982]\n",
      "Global accuracy 96.02929210740439% + 0.007230222910178364\n"
     ]
    }
   ],
   "source": [
    "print(f\"Accuracy per fold : {scores_rf_4}\")\n",
    "print(f\"Global accuracy {100 * np.mean(scores_rf_4)}% + {np.std(scores_rf_4)}\")"
   ],
   "metadata": {
    "collapsed": false,
    "ExecuteTime": {
     "end_time": "2023-11-05T18:24:28.059946600Z",
     "start_time": "2023-11-05T18:24:28.043851200Z"
    }
   },
   "id": "eb5c7db00f97aaa0"
  },
  {
   "cell_type": "markdown",
   "source": [
    "Trying KFold"
   ],
   "metadata": {
    "collapsed": false
   },
   "id": "cb3bd55550fe8ebc"
  },
  {
   "cell_type": "code",
   "execution_count": 55,
   "outputs": [],
   "source": [
    "from sklearn.model_selection import KFold\n",
    "\n",
    "results_rf_5 = cross_validate(pipeline_rf, X_simple_st, y_simple_st, scoring=\"accuracy\", cv=KFold(n_splits=10, shuffle=True), return_estimator=True)\n",
    "scores_rf_5 = results_rf_5[\"test_score\"]"
   ],
   "metadata": {
    "collapsed": false,
    "ExecuteTime": {
     "end_time": "2023-11-05T17:29:04.952618900Z",
     "start_time": "2023-11-05T17:19:27.128942500Z"
    }
   },
   "id": "ae3a6080620b3c5d"
  },
  {
   "cell_type": "code",
   "execution_count": 56,
   "outputs": [
    {
     "name": "stdout",
     "output_type": "stream",
     "text": [
      "Accuracy per fold : [0.96013019 0.95768918 0.96175753 0.97070789 0.96663954 0.96826688\n",
      " 0.95687551 0.96419854 0.96013019 0.96338487]\n",
      "Global accuracy 96.29780309194467% + 0.0043093776002816435\n"
     ]
    }
   ],
   "source": [
    "print(f\"Accuracy per fold : {scores_rf_5}\")\n",
    "print(f\"Global accuracy {100 * np.mean(scores_rf_5)}% + {np.std(scores_rf_5)}\")"
   ],
   "metadata": {
    "collapsed": false,
    "ExecuteTime": {
     "end_time": "2023-11-05T17:29:04.971237100Z",
     "start_time": "2023-11-05T17:29:04.953618900Z"
    }
   },
   "id": "c1bb8f9c138a6f85"
  }
 ],
 "metadata": {
  "kernelspec": {
   "display_name": "Python 3",
   "language": "python",
   "name": "python3"
  },
  "language_info": {
   "codemirror_mode": {
    "name": "ipython",
    "version": 2
   },
   "file_extension": ".py",
   "mimetype": "text/x-python",
   "name": "python",
   "nbconvert_exporter": "python",
   "pygments_lexer": "ipython2",
   "version": "2.7.6"
  }
 },
 "nbformat": 4,
 "nbformat_minor": 5
}
